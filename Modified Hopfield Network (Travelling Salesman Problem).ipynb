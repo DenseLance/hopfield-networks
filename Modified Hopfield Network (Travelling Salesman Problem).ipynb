{
 "cells": [
  {
   "attachments": {},
   "cell_type": "markdown",
   "metadata": {},
   "source": [
    "Main paper referenced: <a href =\"https://www.researchgate.net/publication/228580288_Solving_the_Travelling_Salesman_Problem_with_a_Hopfield-type_neural_network\">Solving the Travelling Salesman Problem with a Hopfield-type neural network</a> (J. Mandziuk, 1996)\n",
    "\n",
    "This is a modified Hopfield Network meant for solving the Travelling Salesman Problem (TSP) and other NP-hard problems, which is separate from the `hf_network` module. Note that an additional constant D is used for this problem when compared to solving the N-Queens Problem to consider the distance travelled between cities.\n",
    "\n",
    "**Constants to be defined**: A, B, C, D, σ (for calculating energy); α (for calculating output potential)<br>**Main goal**: Using the shortest distance, pass through all cities exactly once and returning to the origin city at the end.<br>**Sub goal**: Minimize energy, E (defined in equations 5.1 and 5.2 in the original paper; different from what is described by Hopfield)\n",
    "\n",
    "The following shows how training is conducted for the Hopfield Network:\n",
    "![alt text](images/flow_chart.jpg)\n",
    "\n",
    "Supposed solution for City Set 1 is as such:\n",
    "![alt text](images/city_set_1.jpg)"
   ]
  },
  {
   "cell_type": "code",
   "execution_count": 1,
   "metadata": {},
   "outputs": [],
   "source": [
    "import numpy as np\n",
    "import matplotlib.pyplot as plt\n",
    "\n",
    "class ModifiedHopfield:\n",
    "    def __init__(self, *, number_of_objects, alpha, sigma, **kwargs):\n",
    "        assert number_of_objects > 0\n",
    "        \n",
    "        self.number_of_objects = number_of_objects # refers to variable n\n",
    "        self.alpha = alpha\n",
    "        self.sigma = sigma\n",
    "        self.constants = kwargs\n",
    "        \n",
    "        self.input_potential_shape = (self.number_of_objects,) * 2\n",
    "        \n",
    "    def solution(self):\n",
    "        return self.output_potential > 0\n",
    "        \n",
    "    def output_potential_function(self, input_potential):\n",
    "        # Output potential function is defined in equation 1\n",
    "        return (1. + np.tanh(self.alpha * input_potential)) / 2\n",
    "    \n",
    "    def energy_function(self, *args):\n",
    "        # Energy function is defined in equation 5\n",
    "        E = 0\n",
    "        \n",
    "        # Expression 1: ensures that for each row in the output potential matrix, there would be at most one element equal to 1\n",
    "        # In short, every object is visited not more than once\n",
    "        E_1 = 0\n",
    "        for x in range(self.number_of_objects):\n",
    "            for i in range(self.number_of_objects):\n",
    "                for j in range(self.number_of_objects):\n",
    "                    if i != j:\n",
    "                        E_1 += self.output_potential[x][i] * self.output_potential[x][j]\n",
    "        E += self.constants[\"A\"] / 2 * E_1\n",
    "        \n",
    "        # Expression 2: ensures that for each column in the output potential matrix, there would be at most one element equal to 1\n",
    "        # In short, no more than one object is visited at any point in time\n",
    "        E_2 = 0\n",
    "        for i in range(self.number_of_objects):\n",
    "            for x in range(self.number_of_objects):\n",
    "                for y in range(self.number_of_objects):\n",
    "                    if x != y:\n",
    "                        E_2 += self.output_potential[x][i] * self.output_potential[y][i]\n",
    "        E += self.constants[\"B\"] / 2 * E_2\n",
    "        \n",
    "        # Expression 3: ensures that the sum of values in output potential matrix approach n, where n = number of objects / problem size\n",
    "        E_3 = (self.output_potential.sum() - (self.number_of_objects + self.sigma)) ** 2\n",
    "        E += self.constants[\"C\"] / 2 * E_3\n",
    "        \n",
    "        # Expression 4: ensures that distance travelled is minimised\n",
    "        E_4 = 0\n",
    "        for x in range(self.number_of_objects):\n",
    "            for y in range(self.number_of_objects):\n",
    "                if x != y:\n",
    "                    E_4 +=  args[0][x][y] * self.output_potential[x][0] * self.output_potential[y][1]\n",
    "                    for i in range(1, self.number_of_objects - 1):\n",
    "                        E_4 += args[0][x][y] * self.output_potential[x][i] * (self.output_potential[y][i + 1] + self.output_potential[y][i - 1])\n",
    "                    E_4 +=  args[0][x][y] * self.output_potential[x][self.number_of_objects - 1] * self.output_potential[y][self.number_of_objects - 2]\n",
    "        E += self.constants[\"D\"] / 2 * E_4\n",
    "        return E\n",
    "    \n",
    "    def train(self, *args, max_external_iterations = 25, max_external_iterations_with_constant_E = 5, strategy = \"A\", plot_energy_graph = False):\n",
    "        assert len(args) == 0 or (len(args[0]) == self.number_of_objects and all([len(args[0][i]) == self.number_of_objects for i in range(self.number_of_objects)]))\n",
    "        \n",
    "        # Every n^2 repetitions of (ii) was called an internal iteration\n",
    "        # Five internal iterations equates to one external iteration\n",
    "        internal_iterations, external_iterations, external_iterations_with_constant_E = 0, 0, 0\n",
    "        \n",
    "        # (i) All initial output potentials were set\n",
    "        # In simulation tests four strategies for setting initial output potentials were used.\n",
    "        # a - random value from [0, 0.03]\n",
    "        # b - random value from [0, 1]\n",
    "        # c - random value from [1 - 0.03, 1]\n",
    "        # d - random value from [0, 0.03] + 1/n\n",
    "        self.input_potential = np.zeros(self.input_potential_shape) # refers to variable u\n",
    "        self.output_potential = self.output_potential_function(self.input_potential) # refers to variable v\n",
    "        if strategy == \"A\":\n",
    "            self.output_potential = np.random.uniform(0, 0.03, self.input_potential_shape)\n",
    "        elif strategy == \"B\":\n",
    "            self.output_potential = np.random.uniform(0, 1, self.input_potential_shape)\n",
    "        elif strategy == \"C\":\n",
    "            self.output_potential = np.random.uniform(1 - 0.03, 1, self.input_potential_shape)\n",
    "        elif strategy == \"D\":\n",
    "            self.output_potential = np.random.uniform(0, 0.03, self.input_potential_shape) + 1 / self.number_of_objects\n",
    "        \n",
    "        # (i) Starting value of E was evaluated from equation 5\n",
    "        energy_list = [self.energy_function(args[0])]\n",
    "        \n",
    "        while external_iterations_with_constant_E < max_external_iterations_with_constant_E and external_iterations < max_external_iterations:\n",
    "            for _ in range(self.number_of_objects ** 2):\n",
    "                # (ii) neuron[x][i] was chosen at random; basically asynchronous update is used\n",
    "                x, i = np.random.randint(self.number_of_objects), np.random.randint(self.number_of_objects)\n",
    "                \n",
    "                # (ii) u[x][i] was calculated from equation 8\n",
    "                self.input_potential[x][i] = - (self.constants[\"A\"] * (self.output_potential[x].sum() - self.output_potential[x][i]) +\\\n",
    "                                                self.constants[\"B\"] * (self.output_potential[:,i].sum() - self.output_potential[x][i]) +\\\n",
    "                                                self.constants[\"C\"] * (self.output_potential.sum() - (self.number_of_objects + self.sigma)))\n",
    "                if i == 0:\n",
    "                    self.input_potential[x][i] -= self.constants[\"D\"] * np.matmul(args[0][x], self.output_potential[:,1])\n",
    "                elif i == self.number_of_objects - 1:\n",
    "                    self.input_potential[x][i] -= self.constants[\"D\"] * np.matmul(args[0][x], self.output_potential[:,self.number_of_objects - 2])\n",
    "                else:\n",
    "                    self.input_potential[x][i] -= self.constants[\"D\"] * np.matmul(args[0][x], self.output_potential[:,i + 1] + self.output_potential[:,i - 1])\n",
    "                # (ii) v[x][i] was calculated from equation 1\n",
    "                self.output_potential[x][i] = self.output_potential_function(self.input_potential[x][i])\n",
    "            \n",
    "            internal_iterations += 1\n",
    "            if internal_iterations % 5 == 0:\n",
    "                external_iterations += 1\n",
    "                energy = self.energy_function(args[0])\n",
    "                if energy == energy_list[-1]:\n",
    "                    external_iterations_with_constant_E += 1\n",
    "                else:\n",
    "                    external_iterations_with_constant_E = 0\n",
    "                energy_list.append(energy)\n",
    "            \n",
    "        if plot_energy_graph is True:\n",
    "            plt.plot([i for i in range(external_iterations + 1)], energy_list)\n",
    "            plt.xlabel(\"Number of External Iterations\")\n",
    "            plt.ylabel(\"Energy\")\n",
    "            plt.annotate(f\"min(E) = {int(energy_list[-1])}\", (len(energy_list) - 1 + 0.01, energy_list[-1] + 0.01))\n",
    "            plt.show()\n",
    "            \n",
    "        return energy_list[-1], internal_iterations, external_iterations"
   ]
  },
  {
   "cell_type": "code",
   "execution_count": 2,
   "metadata": {},
   "outputs": [
    {
     "data": {
      "image/png": "[encoded data removed]",
      "text/plain": [
       "<Figure size 576x576 with 1 Axes>"
      ]
     },
     "metadata": {
      "needs_background": "light"
     },
     "output_type": "display_data"
    }
   ],
   "source": [
    "# As per City Set 1 defined in the paper\n",
    "cities = [(0.25, 0.16), (0.85, 0.35), (0.65, 0.24), (0.70, 0.50), (0.15, 0.22), (0.25, 0.78), (0.40, 0.45), (0.90, 0.65), (0.55, 0.90), (0.60, 0.28)]\n",
    "number_of_cities = len(cities)\n",
    "distances = [[((city_2[0] - city_1[0]) ** 2 + (city_2[1] - city_1[1]) ** 2) ** 0.5 for city_2 in cities] for city_1 in cities]\n",
    "labels = [chr(65 + i) for i in range(number_of_cities)]\n",
    "\n",
    "plt.figure(figsize = (8, 8))\n",
    "plt.scatter(*zip(*cities))\n",
    "for i in range(number_of_cities):\n",
    "    plt.annotate(labels[i], (cities[i][0] + 0.01, cities[i][1] + 0.01))\n",
    "plt.show()"
   ]
  },
  {
   "cell_type": "code",
   "execution_count": 3,
   "metadata": {},
   "outputs": [
    {
     "data": {
      "image/png": "[encoded data removed]",
      "text/plain": [
       "<Figure size 432x288 with 1 Axes>"
      ]
     },
     "metadata": {
      "needs_background": "light"
     },
     "output_type": "display_data"
    },
    {
     "data": {
      "image/png": "[encoded data removed]",
      "text/plain": [
       "<Figure size 576x576 with 1 Axes>"
      ]
     },
     "metadata": {
      "needs_background": "light"
     },
     "output_type": "display_data"
    }
   ],
   "source": [
    "# Constants suggested by the paper, can be changed depending on situation\n",
    "A, B, C, D, sigma = 100, 100, 90, 100, 1\n",
    "alpha = 50\n",
    "np.random.seed(123)\n",
    "\n",
    "hopfield_network = ModifiedHopfield(number_of_objects = number_of_cities,\n",
    "                                    alpha = alpha,\n",
    "                                    sigma = sigma,\n",
    "                                    A = A,\n",
    "                                    B = B,\n",
    "                                    C = C,\n",
    "                                    D = D)\n",
    "\n",
    "hopfield_network.train(distances,\n",
    "                       max_external_iterations = 25,\n",
    "                       max_external_iterations_with_constant_E = 5,\n",
    "                       plot_energy_graph = True)\n",
    "\n",
    "# In the resulting matrix, v[x][i] = 1 was interpreted as that city x was in position i of the salesman’s tour\n",
    "solution = list(np.take(np.asarray(cities), np.where(hopfield_network.solution().T)[1], axis = 0))\n",
    "solution.append(solution[0])\n",
    "plt.figure(figsize = (8, 8))\n",
    "plt.plot(*zip(*solution), \"-o\")\n",
    "for i in range(number_of_cities):\n",
    "    plt.annotate(labels[i], (cities[i][0] + 0.01, cities[i][1] + 0.01))\n",
    "if len(solution) > number_of_cities:\n",
    "    total_distance = sum([((solution[i][0] - solution[i + 1][0]) ** 2 + (solution[i][1] - solution[i + 1][1]) ** 2) ** 0.5 for i in range(number_of_cities)])\n",
    "else:\n",
    "    total_distance = None\n",
    "plt.title(f\"Distance travelled: {total_distance}\")\n",
    "plt.show()"
   ]
  },
  {
   "cell_type": "markdown",
   "metadata": {},
   "source": [
    "Supposedly, for A = B = 100 (unchanged constants), C = 90, D = 100, sigma = 1, alpha = 50, Mandziuk produced the following results:\n",
    "![alt text](images/results.jpg)"
   ]
  },
  {
   "cell_type": "code",
   "execution_count": 4,
   "metadata": {},
   "outputs": [
    {
     "data": {
      "application/vnd.jupyter.widget-view+json": {
       "model_id": "a5be46c275cf402a8ef27826d7e39e68",
       "version_major": 2,
       "version_minor": 0
      },
      "text/plain": [
       "Strategy A:   0%|          | 0/100 [00:00<?, ?it/s]"
      ]
     },
     "metadata": {},
     "output_type": "display_data"
    },
    {
     "data": {
      "application/vnd.jupyter.widget-view+json": {
       "model_id": "1d365aec873840b69961f92e2b5bf782",
       "version_major": 2,
       "version_minor": 0
      },
      "text/plain": [
       "Strategy B:   0%|          | 0/100 [00:00<?, ?it/s]"
      ]
     },
     "metadata": {},
     "output_type": "display_data"
    },
    {
     "data": {
      "application/vnd.jupyter.widget-view+json": {
       "model_id": "3f2a50a462b94680806272ffbef9ee17",
       "version_major": 2,
       "version_minor": 0
      },
      "text/plain": [
       "Strategy C:   0%|          | 0/100 [00:00<?, ?it/s]"
      ]
     },
     "metadata": {},
     "output_type": "display_data"
    },
    {
     "data": {
      "application/vnd.jupyter.widget-view+json": {
       "model_id": "d43916a4fac34e7f9c7ecb458b0d1406",
       "version_major": 2,
       "version_minor": 0
      },
      "text/plain": [
       "Strategy D:   0%|          | 0/100 [00:00<?, ?it/s]"
      ]
     },
     "metadata": {},
     "output_type": "display_data"
    },
    {
     "data": {
      "text/html": [
       "<div>\n",
       "<style scoped>\n",
       "    .dataframe tbody tr th:only-of-type {\n",
       "        vertical-align: middle;\n",
       "    }\n",
       "\n",
       "    .dataframe tbody tr th {\n",
       "        vertical-align: top;\n",
       "    }\n",
       "\n",
       "    .dataframe thead th {\n",
       "        text-align: right;\n",
       "    }\n",
       "</style>\n",
       "<table border=\"1\" class=\"dataframe\">\n",
       "  <thead>\n",
       "    <tr style=\"text-align: right;\">\n",
       "      <th></th>\n",
       "      <th>Best</th>\n",
       "      <th>Mean</th>\n",
       "      <th>Worst</th>\n",
       "      <th>%Succ.</th>\n",
       "      <th>Iter.</th>\n",
       "    </tr>\n",
       "  </thead>\n",
       "  <tbody>\n",
       "    <tr>\n",
       "      <th>A</th>\n",
       "      <td>2.786</td>\n",
       "      <td>3.426</td>\n",
       "      <td>4.090</td>\n",
       "      <td>100</td>\n",
       "      <td>50.4</td>\n",
       "    </tr>\n",
       "    <tr>\n",
       "      <th>B</th>\n",
       "      <td>2.786</td>\n",
       "      <td>3.421</td>\n",
       "      <td>4.070</td>\n",
       "      <td>100</td>\n",
       "      <td>51.2</td>\n",
       "    </tr>\n",
       "    <tr>\n",
       "      <th>C</th>\n",
       "      <td>2.787</td>\n",
       "      <td>3.496</td>\n",
       "      <td>4.373</td>\n",
       "      <td>100</td>\n",
       "      <td>48.9</td>\n",
       "    </tr>\n",
       "    <tr>\n",
       "      <th>D</th>\n",
       "      <td>2.787</td>\n",
       "      <td>3.413</td>\n",
       "      <td>4.117</td>\n",
       "      <td>100</td>\n",
       "      <td>50.9</td>\n",
       "    </tr>\n",
       "  </tbody>\n",
       "</table>\n",
       "</div>"
      ],
      "text/plain": [
       "    Best   Mean  Worst  %Succ.  Iter.\n",
       "A  2.786  3.426  4.090     100   50.4\n",
       "B  2.786  3.421  4.070     100   51.2\n",
       "C  2.787  3.496  4.373     100   48.9\n",
       "D  2.787  3.413  4.117     100   50.9"
      ]
     },
     "execution_count": 4,
     "metadata": {},
     "output_type": "execute_result"
    }
   ],
   "source": [
    "# 100 simulation tests are conducted to make comparison with the original paper\n",
    "import pandas as pd\n",
    "from tqdm.auto import tqdm\n",
    "\n",
    "A, B, C, D, sigma = 100, 100, 90, 100, 1\n",
    "alpha = 50\n",
    "strategies = [\"A\", \"B\", \"C\", \"D\"]\n",
    "\n",
    "hopfield_network = ModifiedHopfield(number_of_objects = number_of_cities,\n",
    "                                    alpha = alpha,\n",
    "                                    sigma = sigma,\n",
    "                                    A = A,\n",
    "                                    B = B,\n",
    "                                    C = C,\n",
    "                                    D = D)\n",
    "\n",
    "number_of_tests = 100\n",
    "distance_list, iterations_list = [], []\n",
    "for strategy in strategies:\n",
    "    np.random.seed(123)\n",
    "    distance_list.append([])\n",
    "    iterations_list.append([])\n",
    "    for _ in tqdm(range(number_of_tests), desc = f\"Strategy {strategy}\"):\n",
    "        energy, internal_iterations, external_iterations = hopfield_network.train(distances,\n",
    "                                                                                  max_external_iterations = float(\"inf\"),\n",
    "                                                                                  max_external_iterations_with_constant_E = 5,\n",
    "                                                                                  strategy = strategy)\n",
    "        iterations_list[-1].append(external_iterations)\n",
    "        solution = list(np.take(np.asarray(cities), np.where(hopfield_network.solution().T)[1], axis = 0))\n",
    "        solution.append(solution[0])\n",
    "        if len(solution) > number_of_cities:\n",
    "            distance_list[-1].append(sum([((solution[i][0] - solution[i + 1][0]) ** 2 + (solution[i][1] - solution[i + 1][1]) ** 2) ** 0.5 for i in range(number_of_cities)]))\n",
    "        \n",
    "result = [[round(min(distance_list[i]), 3), round(sum(distance_list[i]) / len(distance_list[i]), 3), round(max(distance_list[i]), 3), len(distance_list[i]) * 100 // number_of_tests, round(sum(iterations_list[i]) / number_of_tests, 1)] for i in range(len(strategies))]\n",
    "\n",
    "pd.DataFrame(result, strategies, [\"Best\", \"Mean\", \"Worst\", \"%Succ.\", \"Iter.\"])"
   ]
  }
 ],
 "metadata": {
  "kernelspec": {
   "display_name": "Python 3",
   "language": "python",
   "name": "python3"
  },
  "language_info": {
   "codemirror_mode": {
    "name": "ipython",
    "version": 3
   },
   "file_extension": ".py",
   "mimetype": "text/x-python",
   "name": "python",
   "nbconvert_exporter": "python",
   "pygments_lexer": "ipython3",
   "version": "3.7.6"
  }
 },
 "nbformat": 4,
 "nbformat_minor": 4
}
