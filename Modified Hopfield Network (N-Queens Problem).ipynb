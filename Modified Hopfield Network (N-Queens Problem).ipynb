{
 "cells": [
  {
   "cell_type": "markdown",
   "metadata": {},
   "source": [
    "Main paper referenced: <a href =\"https://www.researchgate.net/publication/225952959_Solving_the_N-Queens_problem_with_a_binary_Hopfield-type_network\">Solving the N-Queens problem with a binary Hopfield-type network</a> (J. Mandziuk, 1995)\n",
    "\n",
    "This is a modified Hopfield Network meant for solving the N-Queens Problem (NQP) and other NP-hard problems, which is separate from the `hf_network` module.\n",
    "\n",
    "**Constants to be defined**: A, B, C, σ (for calculating energy); α (for calculating output potential)<br>**Main goal**: Place *n* chess queens on a square chessboard composed of *n* rows and *n* columns, in such a way that they don’t attack one another.<br>**Sub goal**: Minimize energy, E (defined in equations 5 in the original paper; different from what is described by Hopfield)\n",
    "\n",
    "Example solutions are as follows (Source: Wikipedia):\n",
    "![alt text](images/NQP_solutions.jpg)"
   ]
  },
  {
   "cell_type": "code",
   "execution_count": 1,
   "metadata": {},
   "outputs": [],
   "source": [
    "import numpy as np\n",
    "import matplotlib.pyplot as plt\n",
    "\n",
    "class ModifiedHopfield:\n",
    "    def __init__(self, *, number_of_objects, sigma, **kwargs):\n",
    "        assert number_of_objects > 0\n",
    "        \n",
    "        self.number_of_objects = number_of_objects # refers to variable n\n",
    "        self.sigma = sigma\n",
    "        self.constants = kwargs\n",
    "        \n",
    "        self.input_potential_shape = (self.number_of_objects,) * 2\n",
    "        \n",
    "    def solution(self):\n",
    "        return self.output_potential > 0\n",
    "        \n",
    "    def output_potential_function(self, input_potential):\n",
    "        # Output potential function is defined in equation 4\n",
    "        # Hard limiter threshold is used for output potential function instead of hyperbolic tangent as per equation 7\n",
    "        return (input_potential >= 0) * 1\n",
    "    \n",
    "    def energy_function(self, *args):\n",
    "        # Energy function is defined in equation 5\n",
    "        E = 0\n",
    "        \n",
    "        # Expression 1: ensures that for each row and column in the output potential matrix, there would be at most one element equal to 1\n",
    "        # In short, every object is visited not more than once\n",
    "        E_1 = 0\n",
    "        for i in range(self.number_of_objects):\n",
    "            for j in range(self.number_of_objects):\n",
    "                if self.output_potential[i,j] != 0:\n",
    "                    for k in range(self.number_of_objects):\n",
    "                        if k != j:\n",
    "                            E_1 += self.output_potential[i,k] * self.output_potential[i,j]\n",
    "                        if k != i:\n",
    "                            E_1 += self.output_potential[k,j] * self.output_potential[i,j]\n",
    "        E += self.constants[\"A\"] / 2 * E_1\n",
    "        \n",
    "        # Expression 2: ensures that for each diagonal in the output potential matrix, there would be at most one element equal to 1\n",
    "        # In short, every object is visited not more than once\n",
    "        E_2 = 0\n",
    "        for i in range(self.number_of_objects):\n",
    "            for j in range(self.number_of_objects):\n",
    "                if self.output_potential[i,j] != 0:\n",
    "                    for k in range(self.number_of_objects):\n",
    "                        if k != i:\n",
    "                            if i >= 1 and j < i and k >= i - j:\n",
    "                                E_2 += self.output_potential[k,k - i + j] * self.output_potential[i,j]\n",
    "                            if j >= i and k < self.number_of_objects + i - j:\n",
    "                                E_2 += self.output_potential[k,k - i + j] * self.output_potential[i,j]\n",
    "                            if (j >= self.number_of_objects - i - 1 and k >= i + j - self.number_of_objects + 1):\n",
    "                                E_2 += self.output_potential[k,i + j - k] * self.output_potential[i,j]\n",
    "                            if (i < self.number_of_objects - 1 and j < self.number_of_objects - i - 1 and k < i + j + 1):\n",
    "                                E_2 += self.output_potential[k,i + j - k] * self.output_potential[i,j]\n",
    "        E += self.constants[\"B\"] / 2 * E_2\n",
    "        \n",
    "        # Expression 3: ensures that the sum of values in output potential matrix approach n, where n = number of objects\n",
    "        E_3 = (self.output_potential.sum() - (self.number_of_objects + self.sigma)) ** 2\n",
    "        E += self.constants[\"C\"] / 2 * E_3\n",
    "        \n",
    "        return E\n",
    "    \n",
    "    def train(self, *args, synchronous = True, max_external_iterations = 25, max_external_iterations_with_constant_E = 5, strategy = \"A\", plot_energy_graph = False):\n",
    "        \"\"\"\n",
    "        In simulation tests three strategies for setting initial output potentials were used.\n",
    "        A - all 0\n",
    "        B - random value of either 0 or 1\n",
    "        C - all 1\n",
    "        \"\"\"\n",
    "        assert len(args) == 0 or (len(args[0]) == self.number_of_objects and all([len(args[0][i]) == self.number_of_objects for i in range(self.number_of_objects)]))\n",
    "        \n",
    "        # Every n^2 repetitions of (ii) was called an internal iteration [ASYNCHRONOUS]\n",
    "        # Every n repetitions of (ii) was called an internal iteration [SYNCHRONOUS]\n",
    "        # Five internal iterations equates to one external iteration\n",
    "        internal_iterations, external_iterations, external_iterations_with_constant_E = 0, 0, 0\n",
    "        \n",
    "        # (i) All initial output potentials were set\n",
    "        self.input_potential = np.zeros(self.input_potential_shape) # refers to variable u\n",
    "        self.output_potential = self.output_potential_function(self.input_potential) # refers to variable v\n",
    "        if strategy == \"A\":\n",
    "            self.output_potential = np.zeros(self.input_potential_shape)\n",
    "        elif strategy == \"B\":\n",
    "            self.output_potential = np.random.randint(2, size = self.input_potential_shape)\n",
    "        elif strategy == \"C\":\n",
    "            self.output_potential = np.ones(self.input_potential_shape)\n",
    "        \n",
    "        # (i) Starting value of E was evaluated from equation 5\n",
    "        energy_list = [self.energy_function()]\n",
    "        \n",
    "        number_of_random_neurons = self.number_of_objects if synchronous is True else 1\n",
    "        while external_iterations_with_constant_E < max_external_iterations_with_constant_E and external_iterations < max_external_iterations:\n",
    "            for _ in range(self.number_of_objects ** 2 // number_of_random_neurons):\n",
    "                # (ii) neuron[i][j] was chosen at random; n neurons chosen for synchronous, 1 chosen for asynchronous\n",
    "                random_indexes = np.random.choice(self.number_of_objects ** 2, number_of_random_neurons)\n",
    "                for index in random_indexes:\n",
    "                    i, j = index // self.number_of_objects, index % self.number_of_objects\n",
    "\n",
    "                    # (ii) u[i][j] was calculated from equation 6\n",
    "                    self.input_potential[i,j] = - (self.constants[\"A\"] * (self.output_potential[i].sum() - self.output_potential[i,j]) +\\\n",
    "                                                   self.constants[\"A\"] * (self.output_potential[:,j].sum() - self.output_potential[i,j]) +\\\n",
    "                                                   self.constants[\"C\"] * (self.output_potential.sum() - (self.number_of_objects + self.sigma)))\n",
    "                    \n",
    "                    # Note that min_range is inclusive, max_range is exclusive\n",
    "                    if i - j > 0:\n",
    "                        min_range, max_range = i - j, self.number_of_objects\n",
    "                    else:\n",
    "                        min_range, max_range = 0, self.number_of_objects + i - j\n",
    "                    for k in range(min_range, max_range):\n",
    "                        if k != i:\n",
    "                            self.input_potential[i,j] -= self.constants[\"B\"] * self.output_potential[k,k - i + j]\n",
    "                    if i + j + 2 > self.number_of_objects:\n",
    "                        min_range, max_range = i + j - self.number_of_objects + 1, self.number_of_objects\n",
    "                    else:\n",
    "                        min_range, max_range = 0, i + j + 1\n",
    "                    for k in range(min_range, max_range):\n",
    "                        if k != i:\n",
    "                            self.input_potential[i,j] -= self.constants[\"B\"] * self.output_potential[k,i + j - k]\n",
    "                \n",
    "                # (ii) v[i][j] was calculated from equation 1\n",
    "                # For asynchronous, this operation is done immediately after the input potential of 1 neuron is evaluated (noting that number_of_random_neurons = 1)\n",
    "                # For synchronous, this operation is only done after input potential of n neurons are evaluated (noting that n = number_of_random_neurons = number_of_objects)\n",
    "                for index in random_indexes:\n",
    "                    i, j = index // self.number_of_objects, index % self.number_of_objects\n",
    "                    self.output_potential[i,j] = self.output_potential_function(self.input_potential[i,j])\n",
    "\n",
    "            internal_iterations += 1\n",
    "            if internal_iterations % 5 == 0:\n",
    "                external_iterations += 1\n",
    "                energy = self.energy_function()\n",
    "                if energy == energy_list[-1]:\n",
    "                    external_iterations_with_constant_E += 1\n",
    "                else:\n",
    "                    external_iterations_with_constant_E = 0\n",
    "                energy_list.append(energy)\n",
    "            \n",
    "        if plot_energy_graph is True:\n",
    "            plt.plot([i for i in range(external_iterations + 1)], energy_list)\n",
    "            plt.xlabel(\"Number of External Iterations\")\n",
    "            plt.ylabel(\"Energy\")\n",
    "            plt.annotate(f\"min(E) = {int(energy_list[-1])}\", (len(energy_list) - 1 + 0.01, energy_list[-1] + 0.01))\n",
    "            plt.show()\n",
    "            \n",
    "        return energy_list[-1], internal_iterations, external_iterations"
   ]
  },
  {
   "cell_type": "code",
   "execution_count": 2,
   "metadata": {},
   "outputs": [
    {
     "data": {
      "image/png": "[encoded data removed]",
      "text/plain": [
       "<Figure size 432x288 with 1 Axes>"
      ]
     },
     "metadata": {
      "needs_background": "light"
     },
     "output_type": "display_data"
    },
    {
     "data": {
      "text/plain": [
       "(0.0, 815, 163)"
      ]
     },
     "execution_count": 2,
     "metadata": {},
     "output_type": "execute_result"
    }
   ],
   "source": [
    "# Constants suggested by the paper, can be changed depending on situation\n",
    "A, B, C, sigma = 100, 100, 100, 0\n",
    "number_of_queens = 64 # Tests done: n = 4, 8, 16, 32, 48, 64 and 80\n",
    "max_external_iterations, max_external_iterations_with_constant_E = 1000, 50 if number_of_queens <= 32 else 100\n",
    "np.random.seed(123)\n",
    "\n",
    "hopfield_network = ModifiedHopfield(number_of_objects = number_of_queens,\n",
    "                                    sigma = sigma,\n",
    "                                    A = A,\n",
    "                                    B = B,\n",
    "                                    C = C)\n",
    "\n",
    "hopfield_network.train(synchronous = False,\n",
    "                       max_external_iterations = max_external_iterations,\n",
    "                       max_external_iterations_with_constant_E = max_external_iterations_with_constant_E,\n",
    "                       plot_energy_graph = True)"
   ]
  },
  {
   "cell_type": "code",
   "execution_count": 3,
   "metadata": {},
   "outputs": [
    {
     "data": {
      "image/png": "[encoded data removed]",
      "text/plain": [
       "<Figure size 1728x1728 with 1 Axes>"
      ]
     },
     "metadata": {
      "needs_background": "light"
     },
     "output_type": "display_data"
    }
   ],
   "source": [
    "letters = []\n",
    "for i in range(1, number_of_queens + 1):\n",
    "    letters.append(\"\")\n",
    "    while i:\n",
    "        letter = chr(i % 26 + 64)\n",
    "        if not letter.isalpha():\n",
    "            letter = \"Z\"\n",
    "            i -= 1\n",
    "        letters[-1] = letter + letters[-1]\n",
    "        i //= 26\n",
    "\n",
    "plt.figure(figsize = (sum(range(number_of_queens // 26 + 2)) * 4,)* 2)\n",
    "plt.imshow(hopfield_network.solution())\n",
    "plt.tick_params(left = False, right = False, bottom = False, top = False)\n",
    "plt.xticks(range(number_of_queens), letters)\n",
    "plt.yticks(range(number_of_queens), range(1, number_of_queens + 1))\n",
    "plt.show()"
   ]
  },
  {
   "cell_type": "code",
   "execution_count": 4,
   "metadata": {},
   "outputs": [
    {
     "name": "stdout",
     "output_type": "stream",
     "text": [
      "Correct solution: True\n"
     ]
    }
   ],
   "source": [
    "# Solution checker for NQP\n",
    "def check_solution(solution):\n",
    "    n = len(solution)\n",
    "    rows, cols, diags, opp_diags = set(), set(), set(), set()\n",
    "\n",
    "    for i in range(n):\n",
    "        for j in range(n):\n",
    "            if solution[i,j] == 1:\n",
    "                rows.add(i)\n",
    "                cols.add(j)\n",
    "                diags.add(i - j)\n",
    "                opp_diags.add(i + j)\n",
    "\n",
    "    return len(rows) == len(cols) == len(diags) == len(opp_diags) == n\n",
    "\n",
    "print(\"Correct solution:\", check_solution(hopfield_network.solution()))"
   ]
  },
  {
   "cell_type": "markdown",
   "metadata": {},
   "source": [
    "From my experimentation, I noted that it is not required here for E to be stable, as long as it is the correct solution, minimum value of energy = C ⋅ sigma.\n",
    "\n",
    "Based on Mandziuk's paper, for n = 4, 8, 16, 32, 48, 64, 80, he found that convergence rate = 100% in all cases except for:\n",
    "1. 99% for Asynchronous, Strategy A, n = 8\n",
    "2. 99% for Synchronous, Strategy A, n = 16\n",
    "3. 99% for Synchronous, Strategy C, n = 16\n",
    "\n",
    "In his testing, he also noted that there are no major differences in speed amongst strategies A, B and C, and the average number of external iterations grows with the problem size *n*.\n",
    "\n",
    "\n",
    "The following results are attained by Mandziuk:\n",
    "![alt text](images/NQP_results.jpg)"
   ]
  },
  {
   "cell_type": "code",
   "execution_count": 5,
   "metadata": {},
   "outputs": [
    {
     "data": {
      "application/vnd.jupyter.widget-view+json": {
       "model_id": "0b6b2b1e3a864788a766813bdf699f93",
       "version_major": 2,
       "version_minor": 0
      },
      "text/plain": [
       "Asynchronous, Strategy A, n = 4:   0%|          | 0/100 [00:00<?, ?it/s]"
      ]
     },
     "metadata": {},
     "output_type": "display_data"
    },
    {
     "data": {
      "application/vnd.jupyter.widget-view+json": {
       "model_id": "c0269ee1fb3b4acf8c7947ad8e9b0aa2",
       "version_major": 2,
       "version_minor": 0
      },
      "text/plain": [
       "Asynchronous, Strategy B, n = 4:   0%|          | 0/100 [00:00<?, ?it/s]"
      ]
     },
     "metadata": {},
     "output_type": "display_data"
    },
    {
     "data": {
      "application/vnd.jupyter.widget-view+json": {
       "model_id": "3770c81e22b84f5eafd18ecb4cdf8fb2",
       "version_major": 2,
       "version_minor": 0
      },
      "text/plain": [
       "Asynchronous, Strategy C, n = 4:   0%|          | 0/100 [00:00<?, ?it/s]"
      ]
     },
     "metadata": {},
     "output_type": "display_data"
    },
    {
     "data": {
      "application/vnd.jupyter.widget-view+json": {
       "model_id": "be5547cb068c4a95a8181609fb01e014",
       "version_major": 2,
       "version_minor": 0
      },
      "text/plain": [
       "Synchronous, Strategy A, n = 4:   0%|          | 0/100 [00:00<?, ?it/s]"
      ]
     },
     "metadata": {},
     "output_type": "display_data"
    },
    {
     "data": {
      "application/vnd.jupyter.widget-view+json": {
       "model_id": "b03276eb47e243c3b39bc47917b4d57f",
       "version_major": 2,
       "version_minor": 0
      },
      "text/plain": [
       "Synchronous, Strategy B, n = 4:   0%|          | 0/100 [00:00<?, ?it/s]"
      ]
     },
     "metadata": {},
     "output_type": "display_data"
    },
    {
     "data": {
      "application/vnd.jupyter.widget-view+json": {
       "model_id": "44cfc36909ca476da6935515a37d557a",
       "version_major": 2,
       "version_minor": 0
      },
      "text/plain": [
       "Synchronous, Strategy C, n = 4:   0%|          | 0/100 [00:00<?, ?it/s]"
      ]
     },
     "metadata": {},
     "output_type": "display_data"
    },
    {
     "data": {
      "text/html": [
       "<style  type=\"text/css\" >\n",
       "</style><table id=\"T_821c00ca_aabf_11ed_8062_f38dbdf1740e\" style = 'display:inline'><caption>Asynchronous, n = 4</caption><thead>    <tr>        <th class=\"blank level0\" ></th>        <th class=\"col_heading level0 col0\" >%Succ.</th>        <th class=\"col_heading level0 col1\" >Iter.</th>    </tr></thead><tbody>\n",
       "                <tr>\n",
       "                        <th id=\"T_821c00ca_aabf_11ed_8062_f38dbdf1740elevel0_row0\" class=\"row_heading level0 row0\" >A</th>\n",
       "                        <td id=\"T_821c00ca_aabf_11ed_8062_f38dbdf1740erow0_col0\" class=\"data row0 col0\" >100</td>\n",
       "                        <td id=\"T_821c00ca_aabf_11ed_8062_f38dbdf1740erow0_col1\" class=\"data row0 col1\" >3.290000</td>\n",
       "            </tr>\n",
       "            <tr>\n",
       "                        <th id=\"T_821c00ca_aabf_11ed_8062_f38dbdf1740elevel0_row1\" class=\"row_heading level0 row1\" >B</th>\n",
       "                        <td id=\"T_821c00ca_aabf_11ed_8062_f38dbdf1740erow1_col0\" class=\"data row1 col0\" >100</td>\n",
       "                        <td id=\"T_821c00ca_aabf_11ed_8062_f38dbdf1740erow1_col1\" class=\"data row1 col1\" >3.110000</td>\n",
       "            </tr>\n",
       "            <tr>\n",
       "                        <th id=\"T_821c00ca_aabf_11ed_8062_f38dbdf1740elevel0_row2\" class=\"row_heading level0 row2\" >C</th>\n",
       "                        <td id=\"T_821c00ca_aabf_11ed_8062_f38dbdf1740erow2_col0\" class=\"data row2 col0\" >100</td>\n",
       "                        <td id=\"T_821c00ca_aabf_11ed_8062_f38dbdf1740erow2_col1\" class=\"data row2 col1\" >3.040000</td>\n",
       "            </tr>\n",
       "    </tbody></table><style  type=\"text/css\" >\n",
       "</style><table id=\"T_a2c8bde2_aabf_11ed_9264_f38dbdf1740e\" style = 'display:inline'><caption>Synchronous, n = 4</caption><thead>    <tr>        <th class=\"blank level0\" ></th>        <th class=\"col_heading level0 col0\" >%Succ.</th>        <th class=\"col_heading level0 col1\" >Iter.</th>    </tr></thead><tbody>\n",
       "                <tr>\n",
       "                        <th id=\"T_a2c8bde2_aabf_11ed_9264_f38dbdf1740elevel0_row0\" class=\"row_heading level0 row0\" >A</th>\n",
       "                        <td id=\"T_a2c8bde2_aabf_11ed_9264_f38dbdf1740erow0_col0\" class=\"data row0 col0\" >100</td>\n",
       "                        <td id=\"T_a2c8bde2_aabf_11ed_9264_f38dbdf1740erow0_col1\" class=\"data row0 col1\" >5.230000</td>\n",
       "            </tr>\n",
       "            <tr>\n",
       "                        <th id=\"T_a2c8bde2_aabf_11ed_9264_f38dbdf1740elevel0_row1\" class=\"row_heading level0 row1\" >B</th>\n",
       "                        <td id=\"T_a2c8bde2_aabf_11ed_9264_f38dbdf1740erow1_col0\" class=\"data row1 col0\" >100</td>\n",
       "                        <td id=\"T_a2c8bde2_aabf_11ed_9264_f38dbdf1740erow1_col1\" class=\"data row1 col1\" >4.390000</td>\n",
       "            </tr>\n",
       "            <tr>\n",
       "                        <th id=\"T_a2c8bde2_aabf_11ed_9264_f38dbdf1740elevel0_row2\" class=\"row_heading level0 row2\" >C</th>\n",
       "                        <td id=\"T_a2c8bde2_aabf_11ed_9264_f38dbdf1740erow2_col0\" class=\"data row2 col0\" >100</td>\n",
       "                        <td id=\"T_a2c8bde2_aabf_11ed_9264_f38dbdf1740erow2_col1\" class=\"data row2 col1\" >4.320000</td>\n",
       "            </tr>\n",
       "    </tbody></table>"
      ]
     },
     "metadata": {},
     "output_type": "display_data"
    },
    {
     "data": {
      "application/vnd.jupyter.widget-view+json": {
       "model_id": "d857b4a236f844fd945d7615addb0272",
       "version_major": 2,
       "version_minor": 0
      },
      "text/plain": [
       "Asynchronous, Strategy A, n = 8:   0%|          | 0/100 [00:00<?, ?it/s]"
      ]
     },
     "metadata": {},
     "output_type": "display_data"
    },
    {
     "data": {
      "application/vnd.jupyter.widget-view+json": {
       "model_id": "1fe7078722164325abcb7747ee951be6",
       "version_major": 2,
       "version_minor": 0
      },
      "text/plain": [
       "Asynchronous, Strategy B, n = 8:   0%|          | 0/100 [00:00<?, ?it/s]"
      ]
     },
     "metadata": {},
     "output_type": "display_data"
    },
    {
     "data": {
      "application/vnd.jupyter.widget-view+json": {
       "model_id": "4bb410f23e574d7fbd6d2d3b8e2ed40c",
       "version_major": 2,
       "version_minor": 0
      },
      "text/plain": [
       "Asynchronous, Strategy C, n = 8:   0%|          | 0/100 [00:00<?, ?it/s]"
      ]
     },
     "metadata": {},
     "output_type": "display_data"
    },
    {
     "data": {
      "application/vnd.jupyter.widget-view+json": {
       "model_id": "6edf377a92014564ad4d4d11f73855d7",
       "version_major": 2,
       "version_minor": 0
      },
      "text/plain": [
       "Synchronous, Strategy A, n = 8:   0%|          | 0/100 [00:00<?, ?it/s]"
      ]
     },
     "metadata": {},
     "output_type": "display_data"
    },
    {
     "data": {
      "application/vnd.jupyter.widget-view+json": {
       "model_id": "0d347c3aa40f41eb9fdeed9d7c867c4b",
       "version_major": 2,
       "version_minor": 0
      },
      "text/plain": [
       "Synchronous, Strategy B, n = 8:   0%|          | 0/100 [00:00<?, ?it/s]"
      ]
     },
     "metadata": {},
     "output_type": "display_data"
    },
    {
     "data": {
      "application/vnd.jupyter.widget-view+json": {
       "model_id": "1c86d298df304d21a766b81bdc23376e",
       "version_major": 2,
       "version_minor": 0
      },
      "text/plain": [
       "Synchronous, Strategy C, n = 8:   0%|          | 0/100 [00:00<?, ?it/s]"
      ]
     },
     "metadata": {},
     "output_type": "display_data"
    },
    {
     "data": {
      "text/html": [
       "<style  type=\"text/css\" >\n",
       "</style><table id=\"T_c56e8a54_aac0_11ed_83aa_f38dbdf1740e\" style = 'display:inline'><caption>Asynchronous, n = 8</caption><thead>    <tr>        <th class=\"blank level0\" ></th>        <th class=\"col_heading level0 col0\" >%Succ.</th>        <th class=\"col_heading level0 col1\" >Iter.</th>    </tr></thead><tbody>\n",
       "                <tr>\n",
       "                        <th id=\"T_c56e8a54_aac0_11ed_83aa_f38dbdf1740elevel0_row0\" class=\"row_heading level0 row0\" >A</th>\n",
       "                        <td id=\"T_c56e8a54_aac0_11ed_83aa_f38dbdf1740erow0_col0\" class=\"data row0 col0\" >100</td>\n",
       "                        <td id=\"T_c56e8a54_aac0_11ed_83aa_f38dbdf1740erow0_col1\" class=\"data row0 col1\" >10.700000</td>\n",
       "            </tr>\n",
       "            <tr>\n",
       "                        <th id=\"T_c56e8a54_aac0_11ed_83aa_f38dbdf1740elevel0_row1\" class=\"row_heading level0 row1\" >B</th>\n",
       "                        <td id=\"T_c56e8a54_aac0_11ed_83aa_f38dbdf1740erow1_col0\" class=\"data row1 col0\" >100</td>\n",
       "                        <td id=\"T_c56e8a54_aac0_11ed_83aa_f38dbdf1740erow1_col1\" class=\"data row1 col1\" >10.530000</td>\n",
       "            </tr>\n",
       "            <tr>\n",
       "                        <th id=\"T_c56e8a54_aac0_11ed_83aa_f38dbdf1740elevel0_row2\" class=\"row_heading level0 row2\" >C</th>\n",
       "                        <td id=\"T_c56e8a54_aac0_11ed_83aa_f38dbdf1740erow2_col0\" class=\"data row2 col0\" >100</td>\n",
       "                        <td id=\"T_c56e8a54_aac0_11ed_83aa_f38dbdf1740erow2_col1\" class=\"data row2 col1\" >9.280000</td>\n",
       "            </tr>\n",
       "    </tbody></table><style  type=\"text/css\" >\n",
       "</style><table id=\"T_53ac6ad4_aac1_11ed_bad2_f38dbdf1740e\" style = 'display:inline'><caption>Synchronous, n = 8</caption><thead>    <tr>        <th class=\"blank level0\" ></th>        <th class=\"col_heading level0 col0\" >%Succ.</th>        <th class=\"col_heading level0 col1\" >Iter.</th>    </tr></thead><tbody>\n",
       "                <tr>\n",
       "                        <th id=\"T_53ac6ad4_aac1_11ed_bad2_f38dbdf1740elevel0_row0\" class=\"row_heading level0 row0\" >A</th>\n",
       "                        <td id=\"T_53ac6ad4_aac1_11ed_bad2_f38dbdf1740erow0_col0\" class=\"data row0 col0\" >100</td>\n",
       "                        <td id=\"T_53ac6ad4_aac1_11ed_bad2_f38dbdf1740erow0_col1\" class=\"data row0 col1\" >11.950000</td>\n",
       "            </tr>\n",
       "            <tr>\n",
       "                        <th id=\"T_53ac6ad4_aac1_11ed_bad2_f38dbdf1740elevel0_row1\" class=\"row_heading level0 row1\" >B</th>\n",
       "                        <td id=\"T_53ac6ad4_aac1_11ed_bad2_f38dbdf1740erow1_col0\" class=\"data row1 col0\" >99</td>\n",
       "                        <td id=\"T_53ac6ad4_aac1_11ed_bad2_f38dbdf1740erow1_col1\" class=\"data row1 col1\" >10.300000</td>\n",
       "            </tr>\n",
       "            <tr>\n",
       "                        <th id=\"T_53ac6ad4_aac1_11ed_bad2_f38dbdf1740elevel0_row2\" class=\"row_heading level0 row2\" >C</th>\n",
       "                        <td id=\"T_53ac6ad4_aac1_11ed_bad2_f38dbdf1740erow2_col0\" class=\"data row2 col0\" >100</td>\n",
       "                        <td id=\"T_53ac6ad4_aac1_11ed_bad2_f38dbdf1740erow2_col1\" class=\"data row2 col1\" >11.510000</td>\n",
       "            </tr>\n",
       "    </tbody></table>"
      ]
     },
     "metadata": {},
     "output_type": "display_data"
    }
   ],
   "source": [
    "# 100 simulation tests are conducted to make comparison with the original paper\n",
    "import pandas as pd\n",
    "from tqdm.auto import tqdm\n",
    "from IPython.display import display_html\n",
    "\n",
    "strategies = [\"A\", \"B\", \"C\"]\n",
    "number_of_tests = 100\n",
    "\n",
    "for number_of_queens in [4, 8]:\n",
    "    display = \"\"\n",
    "    max_external_iterations, max_external_iterations_with_constant_E = 1000, 50 if number_of_queens <= 32 else 100\n",
    "    \n",
    "    for synchronous in [False, True]:\n",
    "        A = B = 100\n",
    "        if synchronous is True:\n",
    "            C, sigma = 40, 2\n",
    "        else:\n",
    "            C, sigma = 100, 0\n",
    "        \n",
    "        hopfield_network = ModifiedHopfield(number_of_objects = number_of_queens,\n",
    "                                            sigma = sigma,\n",
    "                                            A = A,\n",
    "                                            B = B,\n",
    "                                            C = C)\n",
    "        \n",
    "        correct_list, iterations_list = [], []\n",
    "        for strategy in strategies:\n",
    "            np.random.seed(123)\n",
    "            iterations_list.append([])\n",
    "            correct_list.append(0)\n",
    "            for _ in tqdm(range(number_of_tests), desc = f\"{'Synchronous' if synchronous is True else 'Asynchronous'}, Strategy {strategy}, n = {number_of_queens}\"):\n",
    "                energy, internal_iterations, external_iterations = hopfield_network.train(synchronous = synchronous,\n",
    "                                                                                          max_external_iterations = max_external_iterations,\n",
    "                                                                                          max_external_iterations_with_constant_E = max_external_iterations_with_constant_E,\n",
    "                                                                                          strategy = strategy)\n",
    "                iterations_list[-1].append(external_iterations - max_external_iterations_with_constant_E) # do not count the repeated iterations with minimum E\n",
    "                correct_list[-1] += check_solution(hopfield_network.solution())\n",
    "                \n",
    "        table = pd.DataFrame([[correct_list[i] * 100 // number_of_tests, round(sum(iterations_list[i]) / number_of_tests, 2)] for i in range(len(strategies))], strategies, [\"%Succ.\", \"Iter.\"])\n",
    "        display += table.style.set_table_attributes(\"style = 'display:inline'\").set_caption(f\"{'Synchronous' if synchronous is True else 'Asynchronous'}, n = {number_of_queens}\")._repr_html_()\n",
    "\n",
    "    display_html(display, raw = True)"
   ]
  }
 ],
 "metadata": {
  "kernelspec": {
   "display_name": "Python 3",
   "language": "python",
   "name": "python3"
  },
  "language_info": {
   "codemirror_mode": {
    "name": "ipython",
    "version": 3
   },
   "file_extension": ".py",
   "mimetype": "text/x-python",
   "name": "python",
   "nbconvert_exporter": "python",
   "pygments_lexer": "ipython3",
   "version": "3.7.6"
  }
 },
 "nbformat": 4,
 "nbformat_minor": 4
}
